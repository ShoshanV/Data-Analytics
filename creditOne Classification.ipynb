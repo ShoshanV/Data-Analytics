{
 "cells": [
  {
   "cell_type": "code",
   "execution_count": 2,
   "metadata": {},
   "outputs": [],
   "source": [
    "#imports\n",
    "#numpy,pandas,scipy, math, matplotlib\n",
    "import numpy as np\n",
    "import pandas as pd\n",
    "import scipy\n",
    "from math import sqrt\n",
    "import matplotlib.pyplot as plt"
   ]
  },
  {
   "cell_type": "code",
   "execution_count": 3,
   "metadata": {},
   "outputs": [],
   "source": [
    "#estimators\n",
    "from sklearn.ensemble import RandomForestClassifier\n",
    "from sklearn.svm import SVC, LinearSVC \n",
    "from sklearn.tree import DecisionTreeClassifier \n",
    "from sklearn.model_selection import GridSearchCV\n",
    "from sklearn.neighbors import KNeighborsClassifier\n",
    "from sklearn.pipeline import Pipeline\n",
    "from sklearn.preprocessing import StandardScaler\n",
    "from sklearn.decomposition import PCA"
   ]
  },
  {
   "cell_type": "code",
   "execution_count": 4,
   "metadata": {},
   "outputs": [],
   "source": [
    "from sklearn.model_selection import train_test_split\n",
    "from sklearn.model_selection import cross_val_score \n",
    "from sklearn import metrics\n",
    "from sklearn.model_selection import StratifiedKFold\n",
    "from sklearn import preprocessing\n",
    "from sklearn.model_selection import cross_validate\n",
    "from sklearn.metrics import accuracy_score\n",
    "from sklearn.metrics import cohen_kappa_score"
   ]
  },
  {
   "cell_type": "code",
   "execution_count": 5,
   "metadata": {
    "scrolled": true
   },
   "outputs": [
    {
     "data": {
      "text/html": [
       "<div>\n",
       "<style scoped>\n",
       "    .dataframe tbody tr th:only-of-type {\n",
       "        vertical-align: middle;\n",
       "    }\n",
       "\n",
       "    .dataframe tbody tr th {\n",
       "        vertical-align: top;\n",
       "    }\n",
       "\n",
       "    .dataframe thead th {\n",
       "        text-align: right;\n",
       "    }\n",
       "</style>\n",
       "<table border=\"1\" class=\"dataframe\">\n",
       "  <thead>\n",
       "    <tr style=\"text-align: right;\">\n",
       "      <th></th>\n",
       "      <th>ID</th>\n",
       "      <th>LIMIT_BAL</th>\n",
       "      <th>SEX</th>\n",
       "      <th>EDUCATION</th>\n",
       "      <th>MARRIAGE</th>\n",
       "      <th>AGE</th>\n",
       "      <th>PAY_0</th>\n",
       "      <th>PAY_2</th>\n",
       "      <th>PAY_3</th>\n",
       "      <th>PAY_4</th>\n",
       "      <th>...</th>\n",
       "      <th>BILL_AMT4</th>\n",
       "      <th>BILL_AMT5</th>\n",
       "      <th>BILL_AMT6</th>\n",
       "      <th>PAY_AMT1</th>\n",
       "      <th>PAY_AMT2</th>\n",
       "      <th>PAY_AMT3</th>\n",
       "      <th>PAY_AMT4</th>\n",
       "      <th>PAY_AMT5</th>\n",
       "      <th>PAY_AMT6</th>\n",
       "      <th>default payment next month</th>\n",
       "    </tr>\n",
       "  </thead>\n",
       "  <tbody>\n",
       "    <tr>\n",
       "      <td>0</td>\n",
       "      <td>1</td>\n",
       "      <td>20000</td>\n",
       "      <td>2</td>\n",
       "      <td>2</td>\n",
       "      <td>1</td>\n",
       "      <td>24</td>\n",
       "      <td>2</td>\n",
       "      <td>2</td>\n",
       "      <td>-1</td>\n",
       "      <td>-1</td>\n",
       "      <td>...</td>\n",
       "      <td>0</td>\n",
       "      <td>0</td>\n",
       "      <td>0</td>\n",
       "      <td>0</td>\n",
       "      <td>689</td>\n",
       "      <td>0</td>\n",
       "      <td>0</td>\n",
       "      <td>0</td>\n",
       "      <td>0</td>\n",
       "      <td>1</td>\n",
       "    </tr>\n",
       "    <tr>\n",
       "      <td>1</td>\n",
       "      <td>2</td>\n",
       "      <td>120000</td>\n",
       "      <td>2</td>\n",
       "      <td>2</td>\n",
       "      <td>2</td>\n",
       "      <td>26</td>\n",
       "      <td>-1</td>\n",
       "      <td>2</td>\n",
       "      <td>0</td>\n",
       "      <td>0</td>\n",
       "      <td>...</td>\n",
       "      <td>3272</td>\n",
       "      <td>3455</td>\n",
       "      <td>3261</td>\n",
       "      <td>0</td>\n",
       "      <td>1000</td>\n",
       "      <td>1000</td>\n",
       "      <td>1000</td>\n",
       "      <td>0</td>\n",
       "      <td>2000</td>\n",
       "      <td>1</td>\n",
       "    </tr>\n",
       "    <tr>\n",
       "      <td>2</td>\n",
       "      <td>3</td>\n",
       "      <td>90000</td>\n",
       "      <td>2</td>\n",
       "      <td>2</td>\n",
       "      <td>2</td>\n",
       "      <td>34</td>\n",
       "      <td>0</td>\n",
       "      <td>0</td>\n",
       "      <td>0</td>\n",
       "      <td>0</td>\n",
       "      <td>...</td>\n",
       "      <td>14331</td>\n",
       "      <td>14948</td>\n",
       "      <td>15549</td>\n",
       "      <td>1518</td>\n",
       "      <td>1500</td>\n",
       "      <td>1000</td>\n",
       "      <td>1000</td>\n",
       "      <td>1000</td>\n",
       "      <td>5000</td>\n",
       "      <td>0</td>\n",
       "    </tr>\n",
       "    <tr>\n",
       "      <td>3</td>\n",
       "      <td>4</td>\n",
       "      <td>50000</td>\n",
       "      <td>2</td>\n",
       "      <td>2</td>\n",
       "      <td>1</td>\n",
       "      <td>37</td>\n",
       "      <td>0</td>\n",
       "      <td>0</td>\n",
       "      <td>0</td>\n",
       "      <td>0</td>\n",
       "      <td>...</td>\n",
       "      <td>28314</td>\n",
       "      <td>28959</td>\n",
       "      <td>29547</td>\n",
       "      <td>2000</td>\n",
       "      <td>2019</td>\n",
       "      <td>1200</td>\n",
       "      <td>1100</td>\n",
       "      <td>1069</td>\n",
       "      <td>1000</td>\n",
       "      <td>0</td>\n",
       "    </tr>\n",
       "    <tr>\n",
       "      <td>4</td>\n",
       "      <td>5</td>\n",
       "      <td>50000</td>\n",
       "      <td>1</td>\n",
       "      <td>2</td>\n",
       "      <td>1</td>\n",
       "      <td>57</td>\n",
       "      <td>-1</td>\n",
       "      <td>0</td>\n",
       "      <td>-1</td>\n",
       "      <td>0</td>\n",
       "      <td>...</td>\n",
       "      <td>20940</td>\n",
       "      <td>19146</td>\n",
       "      <td>19131</td>\n",
       "      <td>2000</td>\n",
       "      <td>36681</td>\n",
       "      <td>10000</td>\n",
       "      <td>9000</td>\n",
       "      <td>689</td>\n",
       "      <td>679</td>\n",
       "      <td>0</td>\n",
       "    </tr>\n",
       "  </tbody>\n",
       "</table>\n",
       "<p>5 rows × 25 columns</p>\n",
       "</div>"
      ],
      "text/plain": [
       "   ID  LIMIT_BAL  SEX  EDUCATION  MARRIAGE  AGE  PAY_0  PAY_2  PAY_3  PAY_4  \\\n",
       "0   1      20000    2          2         1   24      2      2     -1     -1   \n",
       "1   2     120000    2          2         2   26     -1      2      0      0   \n",
       "2   3      90000    2          2         2   34      0      0      0      0   \n",
       "3   4      50000    2          2         1   37      0      0      0      0   \n",
       "4   5      50000    1          2         1   57     -1      0     -1      0   \n",
       "\n",
       "   ...  BILL_AMT4  BILL_AMT5  BILL_AMT6  PAY_AMT1  PAY_AMT2  PAY_AMT3  \\\n",
       "0  ...          0          0          0         0       689         0   \n",
       "1  ...       3272       3455       3261         0      1000      1000   \n",
       "2  ...      14331      14948      15549      1518      1500      1000   \n",
       "3  ...      28314      28959      29547      2000      2019      1200   \n",
       "4  ...      20940      19146      19131      2000     36681     10000   \n",
       "\n",
       "   PAY_AMT4  PAY_AMT5  PAY_AMT6  default payment next month  \n",
       "0         0         0         0                           1  \n",
       "1      1000         0      2000                           1  \n",
       "2      1000      1000      5000                           0  \n",
       "3      1100      1069      1000                           0  \n",
       "4      9000       689       679                           0  \n",
       "\n",
       "[5 rows x 25 columns]"
      ]
     },
     "execution_count": 5,
     "metadata": {},
     "output_type": "execute_result"
    }
   ],
   "source": [
    "#data\n",
    "rawData = pd.read_csv('default of credit card clients.csv', header=1)\n",
    "rawData.head()"
   ]
  },
  {
   "cell_type": "code",
   "execution_count": 6,
   "metadata": {},
   "outputs": [],
   "source": [
    "#Renaming dependant attributes for simplicity\n",
    "rawData = rawData.rename(columns = {'default payment next month': 'Default'})"
   ]
  },
  {
   "cell_type": "code",
   "execution_count": 7,
   "metadata": {
    "scrolled": true
   },
   "outputs": [
    {
     "name": "stdout",
     "output_type": "stream",
     "text": [
      "Index(['LIMIT_BAL', 'SEX', 'EDUCATION', 'MARRIAGE', 'AGE', 'PAY_0', 'PAY_2',\n",
      "       'PAY_3', 'PAY_4', 'PAY_5', 'PAY_6', 'BILL_AMT1', 'BILL_AMT2',\n",
      "       'BILL_AMT3', 'BILL_AMT4', 'BILL_AMT5', 'BILL_AMT6', 'PAY_AMT1',\n",
      "       'PAY_AMT2', 'PAY_AMT3', 'PAY_AMT4', 'PAY_AMT5', 'PAY_AMT6'],\n",
      "      dtype='object')\n"
     ]
    }
   ],
   "source": [
    "#initial feature selection: removing ID\n",
    "features = rawData.iloc[:,1:24]\n",
    "print(features.columns)"
   ]
  },
  {
   "cell_type": "code",
   "execution_count": 8,
   "metadata": {},
   "outputs": [],
   "source": [
    "#dependent variable\n",
    "depVar = rawData['Default']"
   ]
  },
  {
   "cell_type": "code",
   "execution_count": 9,
   "metadata": {},
   "outputs": [
    {
     "name": "stdout",
     "output_type": "stream",
     "text": [
      "(21000, 23) (9000, 23)\n"
     ]
    }
   ],
   "source": [
    "#Preprocessing = scaling + splitting\n",
    "X_train, X_test, y_train, y_test = train_test_split(features, depVar, test_size = 0.3, random_state=123)\n",
    "print(X_train.shape, X_test.shape)"
   ]
  },
  {
   "cell_type": "code",
   "execution_count": 11,
   "metadata": {},
   "outputs": [],
   "source": [
    "cv = StratifiedKFold(5,random_state=123)"
   ]
  },
  {
   "cell_type": "markdown",
   "metadata": {},
   "source": [
    "# Principal Component analysis"
   ]
  },
  {
   "cell_type": "code",
   "execution_count": 54,
   "metadata": {},
   "outputs": [],
   "source": [
    "pca = PCA(0.98).fit(X_train)"
   ]
  },
  {
   "cell_type": "code",
   "execution_count": 55,
   "metadata": {},
   "outputs": [
    {
     "name": "stdout",
     "output_type": "stream",
     "text": [
      "explained variance by each component: [0.60441451 0.29675411 0.03124743 0.0188716  0.01038141 0.00957023\n",
      " 0.00747101 0.00650953]\n"
     ]
    }
   ],
   "source": [
    "print('explained variance by each component: %s' \n",
    "      %pca.explained_variance_ratio_)"
   ]
  },
  {
   "cell_type": "code",
   "execution_count": 56,
   "metadata": {},
   "outputs": [
    {
     "data": {
      "text/plain": [
       "0.9852198200835673"
      ]
     },
     "execution_count": 56,
     "metadata": {},
     "output_type": "execute_result"
    }
   ],
   "source": [
    "pca.explained_variance_ratio_.sum()"
   ]
  },
  {
   "cell_type": "code",
   "execution_count": 57,
   "metadata": {},
   "outputs": [
    {
     "name": "stdout",
     "output_type": "stream",
     "text": [
      "0.985 of variance are explained by 8 components\n"
     ]
    }
   ],
   "source": [
    "print('%0.3f of variance are explained by %s components' % (pca.explained_variance_ratio_.sum(),len(pca.explained_variance_ratio_)))"
   ]
  },
  {
   "cell_type": "code",
   "execution_count": 62,
   "metadata": {},
   "outputs": [],
   "source": [
    "X_train_pca = pd.DataFrame(pca.transform(X_train),index = X_train.index)\n",
    "X_test_pca = pca.transform(X_test)\n"
   ]
  },
  {
   "cell_type": "markdown",
   "metadata": {},
   "source": [
    "# Out of the box : Classifiers - with vs. without preprocessing"
   ]
  },
  {
   "cell_type": "code",
   "execution_count": 196,
   "metadata": {},
   "outputs": [
    {
     "data": {
      "text/html": [
       "<div>\n",
       "<style scoped>\n",
       "    .dataframe tbody tr th:only-of-type {\n",
       "        vertical-align: middle;\n",
       "    }\n",
       "\n",
       "    .dataframe tbody tr th {\n",
       "        vertical-align: top;\n",
       "    }\n",
       "\n",
       "    .dataframe thead th {\n",
       "        text-align: right;\n",
       "    }\n",
       "</style>\n",
       "<table border=\"1\" class=\"dataframe\">\n",
       "  <thead>\n",
       "    <tr style=\"text-align: right;\">\n",
       "      <th></th>\n",
       "      <th>LIMIT_BAL</th>\n",
       "      <th>SEX</th>\n",
       "      <th>EDUCATION</th>\n",
       "      <th>MARRIAGE</th>\n",
       "      <th>AGE</th>\n",
       "      <th>PAY_0</th>\n",
       "      <th>PAY_2</th>\n",
       "      <th>PAY_3</th>\n",
       "      <th>PAY_4</th>\n",
       "      <th>PAY_5</th>\n",
       "      <th>...</th>\n",
       "      <th>BILL_AMT3</th>\n",
       "      <th>BILL_AMT4</th>\n",
       "      <th>BILL_AMT5</th>\n",
       "      <th>BILL_AMT6</th>\n",
       "      <th>PAY_AMT1</th>\n",
       "      <th>PAY_AMT2</th>\n",
       "      <th>PAY_AMT3</th>\n",
       "      <th>PAY_AMT4</th>\n",
       "      <th>PAY_AMT5</th>\n",
       "      <th>PAY_AMT6</th>\n",
       "    </tr>\n",
       "  </thead>\n",
       "  <tbody>\n",
       "    <tr>\n",
       "      <td>5576</td>\n",
       "      <td>150000</td>\n",
       "      <td>1</td>\n",
       "      <td>2</td>\n",
       "      <td>2</td>\n",
       "      <td>26</td>\n",
       "      <td>-2</td>\n",
       "      <td>-2</td>\n",
       "      <td>-2</td>\n",
       "      <td>-2</td>\n",
       "      <td>-2</td>\n",
       "      <td>...</td>\n",
       "      <td>0</td>\n",
       "      <td>0</td>\n",
       "      <td>0</td>\n",
       "      <td>0</td>\n",
       "      <td>0</td>\n",
       "      <td>0</td>\n",
       "      <td>0</td>\n",
       "      <td>0</td>\n",
       "      <td>0</td>\n",
       "      <td>0</td>\n",
       "    </tr>\n",
       "    <tr>\n",
       "      <td>25512</td>\n",
       "      <td>30000</td>\n",
       "      <td>2</td>\n",
       "      <td>2</td>\n",
       "      <td>2</td>\n",
       "      <td>25</td>\n",
       "      <td>0</td>\n",
       "      <td>0</td>\n",
       "      <td>0</td>\n",
       "      <td>0</td>\n",
       "      <td>0</td>\n",
       "      <td>...</td>\n",
       "      <td>21034</td>\n",
       "      <td>22050</td>\n",
       "      <td>22490</td>\n",
       "      <td>22961</td>\n",
       "      <td>1325</td>\n",
       "      <td>1350</td>\n",
       "      <td>1366</td>\n",
       "      <td>806</td>\n",
       "      <td>834</td>\n",
       "      <td>836</td>\n",
       "    </tr>\n",
       "    <tr>\n",
       "      <td>1326</td>\n",
       "      <td>170000</td>\n",
       "      <td>1</td>\n",
       "      <td>2</td>\n",
       "      <td>1</td>\n",
       "      <td>48</td>\n",
       "      <td>0</td>\n",
       "      <td>0</td>\n",
       "      <td>0</td>\n",
       "      <td>0</td>\n",
       "      <td>0</td>\n",
       "      <td>...</td>\n",
       "      <td>136331</td>\n",
       "      <td>123913</td>\n",
       "      <td>122657</td>\n",
       "      <td>122225</td>\n",
       "      <td>5396</td>\n",
       "      <td>5000</td>\n",
       "      <td>5000</td>\n",
       "      <td>5000</td>\n",
       "      <td>5000</td>\n",
       "      <td>4000</td>\n",
       "    </tr>\n",
       "    <tr>\n",
       "      <td>17003</td>\n",
       "      <td>30000</td>\n",
       "      <td>2</td>\n",
       "      <td>1</td>\n",
       "      <td>2</td>\n",
       "      <td>22</td>\n",
       "      <td>0</td>\n",
       "      <td>0</td>\n",
       "      <td>0</td>\n",
       "      <td>0</td>\n",
       "      <td>0</td>\n",
       "      <td>...</td>\n",
       "      <td>30582</td>\n",
       "      <td>28983</td>\n",
       "      <td>27947</td>\n",
       "      <td>26630</td>\n",
       "      <td>1800</td>\n",
       "      <td>3000</td>\n",
       "      <td>1404</td>\n",
       "      <td>559</td>\n",
       "      <td>533</td>\n",
       "      <td>1000</td>\n",
       "    </tr>\n",
       "    <tr>\n",
       "      <td>29325</td>\n",
       "      <td>50000</td>\n",
       "      <td>1</td>\n",
       "      <td>2</td>\n",
       "      <td>2</td>\n",
       "      <td>27</td>\n",
       "      <td>0</td>\n",
       "      <td>0</td>\n",
       "      <td>0</td>\n",
       "      <td>0</td>\n",
       "      <td>0</td>\n",
       "      <td>...</td>\n",
       "      <td>49252</td>\n",
       "      <td>28838</td>\n",
       "      <td>2102</td>\n",
       "      <td>19366</td>\n",
       "      <td>3000</td>\n",
       "      <td>4063</td>\n",
       "      <td>1700</td>\n",
       "      <td>600</td>\n",
       "      <td>20000</td>\n",
       "      <td>1000</td>\n",
       "    </tr>\n",
       "  </tbody>\n",
       "</table>\n",
       "<p>5 rows × 23 columns</p>\n",
       "</div>"
      ],
      "text/plain": [
       "       LIMIT_BAL  SEX  EDUCATION  MARRIAGE  AGE  PAY_0  PAY_2  PAY_3  PAY_4  \\\n",
       "5576      150000    1          2         2   26     -2     -2     -2     -2   \n",
       "25512      30000    2          2         2   25      0      0      0      0   \n",
       "1326      170000    1          2         1   48      0      0      0      0   \n",
       "17003      30000    2          1         2   22      0      0      0      0   \n",
       "29325      50000    1          2         2   27      0      0      0      0   \n",
       "\n",
       "       PAY_5  ...  BILL_AMT3  BILL_AMT4  BILL_AMT5  BILL_AMT6  PAY_AMT1  \\\n",
       "5576      -2  ...          0          0          0          0         0   \n",
       "25512      0  ...      21034      22050      22490      22961      1325   \n",
       "1326       0  ...     136331     123913     122657     122225      5396   \n",
       "17003      0  ...      30582      28983      27947      26630      1800   \n",
       "29325      0  ...      49252      28838       2102      19366      3000   \n",
       "\n",
       "       PAY_AMT2  PAY_AMT3  PAY_AMT4  PAY_AMT5  PAY_AMT6  \n",
       "5576          0         0         0         0         0  \n",
       "25512      1350      1366       806       834       836  \n",
       "1326       5000      5000      5000      5000      4000  \n",
       "17003      3000      1404       559       533      1000  \n",
       "29325      4063      1700       600     20000      1000  \n",
       "\n",
       "[5 rows x 23 columns]"
      ]
     },
     "execution_count": 196,
     "metadata": {},
     "output_type": "execute_result"
    }
   ],
   "source": [
    "X_train.head()"
   ]
  },
  {
   "cell_type": "code",
   "execution_count": 66,
   "metadata": {},
   "outputs": [],
   "source": [
    "classifiers = [\n",
    "    KNeighborsClassifier(),\n",
    "    SVC(random_state=123, gamma = 'auto'),\n",
    "    DecisionTreeClassifier(max_depth = 10, random_state=123),\n",
    "    RandomForestClassifier(n_estimators = 100, max_features = 10, random_state=123)\n",
    "]\n"
   ]
  },
  {
   "cell_type": "code",
   "execution_count": 67,
   "metadata": {},
   "outputs": [],
   "source": [
    "models_ootb = pd.DataFrame(np.zeros((4,4)), columns = ['KNN','SVM','DecisionTree','RandomForest'], \n",
    "                      index = ['TrainSet: mean CV','TestSet','TrainSet: mean CV w PP','TestSet wPP'])"
   ]
  },
  {
   "cell_type": "code",
   "execution_count": 68,
   "metadata": {
    "scrolled": true
   },
   "outputs": [],
   "source": [
    "c = 0\n",
    "for clf in classifiers:\n",
    "    pipe = Pipeline(steps = [('PP',StandardScaler()),('classifier',clf)]) # define the pipeline object.\n",
    "    clf.fit(X_train,y_train)\n",
    "    models_ootb.iloc[0,c] = cross_val_score(clf,X_train,y_train,cv = StratifiedKFold(5,random_state=123)).mean()\n",
    "    models_ootb.iloc[1,c] = clf.score(X_test,y_test)\n",
    "    #print('mean cv model score over training set : %.3f' %cross_val_score(clf,X_train,y_train,cv = StratifiedKFold(5,random_state=123)).mean())\n",
    "    #print('model score over testing set : %.3f' %clf.score(X_test,y_test))\n",
    "    pipe.fit(X_train,y_train)\n",
    "    models_ootb.iloc[2,c] = cross_val_score(pipe,X_train,y_train,cv = StratifiedKFold(5,random_state=123)).mean()\n",
    "    models_ootb.iloc[3,c] = pipe.score(X_test,y_test)\n",
    "    c=c+1"
   ]
  },
  {
   "cell_type": "code",
   "execution_count": 69,
   "metadata": {},
   "outputs": [
    {
     "data": {
      "text/html": [
       "<div>\n",
       "<style scoped>\n",
       "    .dataframe tbody tr th:only-of-type {\n",
       "        vertical-align: middle;\n",
       "    }\n",
       "\n",
       "    .dataframe tbody tr th {\n",
       "        vertical-align: top;\n",
       "    }\n",
       "\n",
       "    .dataframe thead th {\n",
       "        text-align: right;\n",
       "    }\n",
       "</style>\n",
       "<table border=\"1\" class=\"dataframe\">\n",
       "  <thead>\n",
       "    <tr style=\"text-align: right;\">\n",
       "      <th></th>\n",
       "      <th>KNN</th>\n",
       "      <th>SVM</th>\n",
       "      <th>DecisionTree</th>\n",
       "      <th>RandomForest</th>\n",
       "    </tr>\n",
       "  </thead>\n",
       "  <tbody>\n",
       "    <tr>\n",
       "      <td>TrainSet: mean CV</td>\n",
       "      <td>0.748714</td>\n",
       "      <td>0.777000</td>\n",
       "      <td>0.807572</td>\n",
       "      <td>0.814762</td>\n",
       "    </tr>\n",
       "    <tr>\n",
       "      <td>TestSet</td>\n",
       "      <td>0.755000</td>\n",
       "      <td>0.784667</td>\n",
       "      <td>0.811222</td>\n",
       "      <td>0.815889</td>\n",
       "    </tr>\n",
       "    <tr>\n",
       "      <td>TrainSet: mean CV w PP</td>\n",
       "      <td>0.793762</td>\n",
       "      <td>0.818286</td>\n",
       "      <td>0.807667</td>\n",
       "      <td>0.814905</td>\n",
       "    </tr>\n",
       "    <tr>\n",
       "      <td>TestSet wPP</td>\n",
       "      <td>0.788778</td>\n",
       "      <td>0.820000</td>\n",
       "      <td>0.811000</td>\n",
       "      <td>0.815889</td>\n",
       "    </tr>\n",
       "  </tbody>\n",
       "</table>\n",
       "</div>"
      ],
      "text/plain": [
       "                             KNN       SVM  DecisionTree  RandomForest\n",
       "TrainSet: mean CV       0.748714  0.777000      0.807572      0.814762\n",
       "TestSet                 0.755000  0.784667      0.811222      0.815889\n",
       "TrainSet: mean CV w PP  0.793762  0.818286      0.807667      0.814905\n",
       "TestSet wPP             0.788778  0.820000      0.811000      0.815889"
      ]
     },
     "execution_count": 69,
     "metadata": {},
     "output_type": "execute_result"
    }
   ],
   "source": [
    "models_ootb"
   ]
  },
  {
   "cell_type": "markdown",
   "metadata": {},
   "source": [
    "- Scaling and centering improves accuracy for both KNN and SVM. As can be expected - non-parametric methods are not affected"
   ]
  },
  {
   "cell_type": "markdown",
   "metadata": {},
   "source": [
    "# Decision Tree Model - Feature importance & Tuning"
   ]
  },
  {
   "cell_type": "code",
   "execution_count": 103,
   "metadata": {},
   "outputs": [],
   "source": [
    "models_tuned = pd.DataFrame(np.zeros((2,4)), columns = ['KNN','SVM','DecisionTree','RandomForest'], \n",
    "                      index = ['TrainSet','TestSet'])"
   ]
  },
  {
   "cell_type": "code",
   "execution_count": 186,
   "metadata": {},
   "outputs": [
    {
     "name": "stdout",
     "output_type": "stream",
     "text": [
      "model score over training set : 0.850\n",
      "model score (mean over cross validation) over training set : 0.808\n"
     ]
    },
    {
     "data": {
      "text/plain": [
       "Text(0.5, 1.0, 'Feature importance - Decision Tree')"
      ]
     },
     "execution_count": 186,
     "metadata": {},
     "output_type": "execute_result"
    },
    {
     "data": {
      "image/png": "[encoded data removed]",
      "text/plain": [
       "<Figure size 432x288 with 1 Axes>"
      ]
     },
     "metadata": {
      "needs_background": "light"
     },
     "output_type": "display_data"
    }
   ],
   "source": [
    "modelDT = DecisionTreeClassifier(max_depth = 10,random_state=123)\n",
    "modelDT.fit(X_train,y_train)\n",
    "print('model score over training set : %.3f' %modelDT.score(X_train,y_train))\n",
    "print('model score (mean over cross validation) over training set : %.3f' %cross_val_score(modelDT,X_train,y_train,cv = StratifiedKFold(5,random_state=123)).mean())\n",
    "feat_importances = pd.Series(modelDT.feature_importances_, index = features.columns)\n",
    "feat_importances.plot(kind='barh');\n",
    "plt.title('Feature importance - Decision Tree')"
   ]
  },
  {
   "cell_type": "code",
   "execution_count": 165,
   "metadata": {},
   "outputs": [
    {
     "data": {
      "text/plain": [
       "Index(['PAY_0', 'PAY_2'], dtype='object')"
      ]
     },
     "execution_count": 165,
     "metadata": {},
     "output_type": "execute_result"
    }
   ],
   "source": [
    "feat_importances.nlargest(2).index"
   ]
  },
  {
   "cell_type": "code",
   "execution_count": 166,
   "metadata": {},
   "outputs": [],
   "source": [
    "reduced_X_train = X_train[feat_importances.nlargest(2).index]"
   ]
  },
  {
   "cell_type": "code",
   "execution_count": 167,
   "metadata": {},
   "outputs": [],
   "source": [
    "reduced_X_test = X_test[feat_importances.nlargest(2).index]"
   ]
  },
  {
   "cell_type": "code",
   "execution_count": 168,
   "metadata": {},
   "outputs": [
    {
     "name": "stdout",
     "output_type": "stream",
     "text": [
      "model score over training set : 0.820\n",
      "model score (mean over cross validation) over training set : 0.819\n"
     ]
    }
   ],
   "source": [
    "\n",
    "modelDT = DecisionTreeClassifier(max_depth=10,random_state=123)\n",
    "modelDT.fit(reduced_X_train,y_train)\n",
    "print('model score over training set : %.3f' %modelDT.score(reduced_X_train,y_train))\n",
    "print('model score (mean over cross validation) over training set : %.3f' %cross_val_score(modelDT,reduced_X_train,y_train,cv = StratifiedKFold(5,random_state=123)).mean())"
   ]
  },
  {
   "cell_type": "markdown",
   "metadata": {},
   "source": [
    "- Minimal change when reducing to 7 attributes"
   ]
  },
  {
   "cell_type": "code",
   "execution_count": 169,
   "metadata": {},
   "outputs": [
    {
     "data": {
      "text/plain": [
       "dict_keys(['class_weight', 'criterion', 'max_depth', 'max_features', 'max_leaf_nodes', 'min_impurity_decrease', 'min_impurity_split', 'min_samples_leaf', 'min_samples_split', 'min_weight_fraction_leaf', 'presort', 'random_state', 'splitter'])"
      ]
     },
     "execution_count": 169,
     "metadata": {},
     "output_type": "execute_result"
    }
   ],
   "source": [
    "DecisionTreeClassifier().get_params().keys()"
   ]
  },
  {
   "cell_type": "code",
   "execution_count": 170,
   "metadata": {},
   "outputs": [],
   "source": [
    "cv = StratifiedKFold(5,random_state=123)\n",
    "modelDT = GridSearchCV(DecisionTreeClassifier(random_state = 123), param_grid = {'criterion':['gini','entropy'],'max_depth':[5,10,15,20]},cv=cv,verbose = 1, refit = True, scoring = 'accuracy')"
   ]
  },
  {
   "cell_type": "code",
   "execution_count": 171,
   "metadata": {
    "scrolled": true
   },
   "outputs": [
    {
     "name": "stdout",
     "output_type": "stream",
     "text": [
      "Fitting 5 folds for each of 8 candidates, totalling 40 fits\n"
     ]
    },
    {
     "name": "stderr",
     "output_type": "stream",
     "text": [
      "[Parallel(n_jobs=1)]: Using backend SequentialBackend with 1 concurrent workers.\n",
      "[Parallel(n_jobs=1)]: Done  40 out of  40 | elapsed:    0.1s finished\n"
     ]
    },
    {
     "data": {
      "text/plain": [
       "GridSearchCV(cv=StratifiedKFold(n_splits=5, random_state=123, shuffle=False),\n",
       "             error_score='raise-deprecating',\n",
       "             estimator=DecisionTreeClassifier(class_weight=None,\n",
       "                                              criterion='gini', max_depth=None,\n",
       "                                              max_features=None,\n",
       "                                              max_leaf_nodes=None,\n",
       "                                              min_impurity_decrease=0.0,\n",
       "                                              min_impurity_split=None,\n",
       "                                              min_samples_leaf=1,\n",
       "                                              min_samples_split=2,\n",
       "                                              min_weight_fraction_leaf=0.0,\n",
       "                                              presort=False, random_state=123,\n",
       "                                              splitter='best'),\n",
       "             iid='warn', n_jobs=None,\n",
       "             param_grid={'criterion': ['gini', 'entropy'],\n",
       "                         'max_depth': [5, 10, 15, 20]},\n",
       "             pre_dispatch='2*n_jobs', refit=True, return_train_score=False,\n",
       "             scoring='accuracy', verbose=1)"
      ]
     },
     "execution_count": 171,
     "metadata": {},
     "output_type": "execute_result"
    }
   ],
   "source": [
    "modelDT.fit(reduced_X_train,y_train)"
   ]
  },
  {
   "cell_type": "code",
   "execution_count": 172,
   "metadata": {},
   "outputs": [
    {
     "data": {
      "text/plain": [
       "(0.8192380952380952, {'criterion': 'gini', 'max_depth': 5})"
      ]
     },
     "execution_count": 172,
     "metadata": {},
     "output_type": "execute_result"
    }
   ],
   "source": [
    "modelDT.best_score_, modelDT.best_params_"
   ]
  },
  {
   "cell_type": "code",
   "execution_count": 173,
   "metadata": {},
   "outputs": [
    {
     "name": "stdout",
     "output_type": "stream",
     "text": [
      "0.8199047619047619\n",
      "0.8221111111111111\n"
     ]
    }
   ],
   "source": [
    "modelDT = DecisionTreeClassifier(random_state = 123, criterion = 'entropy', max_depth = 5)\n",
    "modelDT.fit(reduced_X_train,y_train)\n",
    "print(modelDT.score(reduced_X_train,y_train))\n",
    "print(modelDT.score(reduced_X_test,y_test))"
   ]
  },
  {
   "cell_type": "code",
   "execution_count": 174,
   "metadata": {},
   "outputs": [
    {
     "data": {
      "text/html": [
       "<div>\n",
       "<style scoped>\n",
       "    .dataframe tbody tr th:only-of-type {\n",
       "        vertical-align: middle;\n",
       "    }\n",
       "\n",
       "    .dataframe tbody tr th {\n",
       "        vertical-align: top;\n",
       "    }\n",
       "\n",
       "    .dataframe thead th {\n",
       "        text-align: right;\n",
       "    }\n",
       "</style>\n",
       "<table border=\"1\" class=\"dataframe\">\n",
       "  <thead>\n",
       "    <tr style=\"text-align: right;\">\n",
       "      <th></th>\n",
       "      <th>KNN</th>\n",
       "      <th>SVM</th>\n",
       "      <th>DecisionTree</th>\n",
       "      <th>RandomForest</th>\n",
       "    </tr>\n",
       "  </thead>\n",
       "  <tbody>\n",
       "    <tr>\n",
       "      <td>TrainSet</td>\n",
       "      <td>0.0</td>\n",
       "      <td>0.0</td>\n",
       "      <td>0.819905</td>\n",
       "      <td>0.0</td>\n",
       "    </tr>\n",
       "    <tr>\n",
       "      <td>TestSet</td>\n",
       "      <td>0.0</td>\n",
       "      <td>0.0</td>\n",
       "      <td>0.822111</td>\n",
       "      <td>0.0</td>\n",
       "    </tr>\n",
       "  </tbody>\n",
       "</table>\n",
       "</div>"
      ],
      "text/plain": [
       "          KNN  SVM  DecisionTree  RandomForest\n",
       "TrainSet  0.0  0.0      0.819905           0.0\n",
       "TestSet   0.0  0.0      0.822111           0.0"
      ]
     },
     "execution_count": 174,
     "metadata": {},
     "output_type": "execute_result"
    }
   ],
   "source": [
    "models_tuned['DecisionTree'] = [modelDT.score(reduced_X_train,y_train),modelDT.score(reduced_X_test,y_test)]\n",
    "models_tuned"
   ]
  },
  {
   "cell_type": "code",
   "execution_count": 175,
   "metadata": {},
   "outputs": [
    {
     "data": {
      "image/png": "[encoded data removed]",
      "text/plain": [
       "<Figure size 1296x720 with 1 Axes>"
      ]
     },
     "metadata": {
      "needs_background": "light"
     },
     "output_type": "display_data"
    }
   ],
   "source": [
    "plt.figure(figsize = [18,10])\n",
    "from sklearn import tree\n",
    "tree.plot_tree(modelDT, filled = True, fontsize = 10, feature_names = feat_importances.nlargest(7).index, rounded = True)\n",
    "plt.title('Decision Tree (Blue = Default, Orange = Non Default)')\n",
    "#plt.legend(['Blue = Default', 'Orange = Non Default'])\n",
    "plt.show()"
   ]
  },
  {
   "cell_type": "markdown",
   "metadata": {},
   "source": [
    "#  K-NN Tuning (with scaled features) + PCA"
   ]
  },
  {
   "cell_type": "code",
   "execution_count": 177,
   "metadata": {},
   "outputs": [
    {
     "data": {
      "text/plain": [
       "dict_keys(['algorithm', 'leaf_size', 'metric', 'metric_params', 'n_jobs', 'n_neighbors', 'p', 'weights'])"
      ]
     },
     "execution_count": 177,
     "metadata": {},
     "output_type": "execute_result"
    }
   ],
   "source": [
    "KNeighborsClassifier().get_params().keys()"
   ]
  },
  {
   "cell_type": "code",
   "execution_count": 178,
   "metadata": {},
   "outputs": [],
   "source": [
    "parameters = {'classifier__n_neighbors':[1,5,10, 25, 50]}\n",
    "cv = StratifiedKFold(5,random_state=123)"
   ]
  },
  {
   "cell_type": "code",
   "execution_count": 179,
   "metadata": {},
   "outputs": [],
   "source": [
    "grid = GridSearchCV(Pipeline([('PP',StandardScaler()),('classifier',KNeighborsClassifier())]), param_grid=parameters, cv=cv, verbose = 1,refit=True, scoring = 'accuracy')\n",
    "grid_pca = GridSearchCV(Pipeline([('PP',StandardScaler()),('PCA',PCA(n_components= 0.98)),('classifier',KNeighborsClassifier())]), param_grid=parameters, cv=cv, verbose = 1,refit=True, scoring = 'accuracy')"
   ]
  },
  {
   "cell_type": "code",
   "execution_count": 180,
   "metadata": {
    "scrolled": true
   },
   "outputs": [
    {
     "name": "stdout",
     "output_type": "stream",
     "text": [
      "Fitting 5 folds for each of 5 candidates, totalling 25 fits\n"
     ]
    },
    {
     "name": "stderr",
     "output_type": "stream",
     "text": [
      "[Parallel(n_jobs=1)]: Using backend SequentialBackend with 1 concurrent workers.\n",
      "[Parallel(n_jobs=1)]: Done  25 out of  25 | elapsed:   55.6s finished\n",
      "[Parallel(n_jobs=1)]: Using backend SequentialBackend with 1 concurrent workers.\n"
     ]
    },
    {
     "name": "stdout",
     "output_type": "stream",
     "text": [
      "Fitting 5 folds for each of 5 candidates, totalling 25 fits\n"
     ]
    },
    {
     "name": "stderr",
     "output_type": "stream",
     "text": [
      "[Parallel(n_jobs=1)]: Done  25 out of  25 | elapsed:   22.5s finished\n"
     ]
    },
    {
     "data": {
      "text/plain": [
       "GridSearchCV(cv=StratifiedKFold(n_splits=5, random_state=123, shuffle=False),\n",
       "             error_score='raise-deprecating',\n",
       "             estimator=Pipeline(memory=None,\n",
       "                                steps=[('PP',\n",
       "                                        StandardScaler(copy=True,\n",
       "                                                       with_mean=True,\n",
       "                                                       with_std=True)),\n",
       "                                       ('PCA',\n",
       "                                        PCA(copy=True, iterated_power='auto',\n",
       "                                            n_components=0.98,\n",
       "                                            random_state=None,\n",
       "                                            svd_solver='auto', tol=0.0,\n",
       "                                            whiten=False)),\n",
       "                                       ('classifier',\n",
       "                                        KNeighborsClassifier(algorithm='auto',\n",
       "                                                             leaf_size=30,\n",
       "                                                             metric='minkowski',\n",
       "                                                             metric_params=None,\n",
       "                                                             n_jobs=None,\n",
       "                                                             n_neighbors=5, p=2,\n",
       "                                                             weights='uniform'))],\n",
       "                                verbose=False),\n",
       "             iid='warn', n_jobs=None,\n",
       "             param_grid={'classifier__n_neighbors': [1, 5, 10, 25, 50]},\n",
       "             pre_dispatch='2*n_jobs', refit=True, return_train_score=False,\n",
       "             scoring='accuracy', verbose=1)"
      ]
     },
     "execution_count": 180,
     "metadata": {},
     "output_type": "execute_result"
    }
   ],
   "source": [
    "grid.fit(X_train, y_train) #scale + knn\n",
    "grid_pca.fit(X_train, y_train) #scale+pca+knn\n"
   ]
  },
  {
   "cell_type": "code",
   "execution_count": 181,
   "metadata": {},
   "outputs": [
    {
     "name": "stdout",
     "output_type": "stream",
     "text": [
      "0.8093333333333333 {'classifier__n_neighbors': 25}\n",
      "0.8101428571428572 {'classifier__n_neighbors': 25}\n"
     ]
    }
   ],
   "source": [
    "print(grid.best_score_,grid.best_params_)\n",
    "print(grid_pca.best_score_,grid_pca.best_params_)"
   ]
  },
  {
   "cell_type": "markdown",
   "metadata": {},
   "source": [
    "- PCA improves the score"
   ]
  },
  {
   "cell_type": "code",
   "execution_count": 182,
   "metadata": {},
   "outputs": [],
   "source": [
    "knn = Pipeline(steps = [('pca',PCA(n_components= 0.98)),('clf',KNeighborsClassifier(n_neighbors = 25))])\n",
    "#knn = KNeighborsClassifier(n_neighbors = 25)\n",
    "#Pipeline(steps = [('PP',StandardScaler()),('classifier',clf)])"
   ]
  },
  {
   "cell_type": "code",
   "execution_count": 183,
   "metadata": {},
   "outputs": [
    {
     "name": "stdout",
     "output_type": "stream",
     "text": [
      "0.785047619047619\n",
      "0.7841111111111111\n"
     ]
    }
   ],
   "source": [
    "knn.fit(X_train,y_train)\n",
    "print(knn.score(X_train,y_train))\n",
    "print(knn.score(X_test,y_test))"
   ]
  },
  {
   "cell_type": "code",
   "execution_count": 184,
   "metadata": {},
   "outputs": [
    {
     "data": {
      "text/html": [
       "<div>\n",
       "<style scoped>\n",
       "    .dataframe tbody tr th:only-of-type {\n",
       "        vertical-align: middle;\n",
       "    }\n",
       "\n",
       "    .dataframe tbody tr th {\n",
       "        vertical-align: top;\n",
       "    }\n",
       "\n",
       "    .dataframe thead th {\n",
       "        text-align: right;\n",
       "    }\n",
       "</style>\n",
       "<table border=\"1\" class=\"dataframe\">\n",
       "  <thead>\n",
       "    <tr style=\"text-align: right;\">\n",
       "      <th></th>\n",
       "      <th>KNN</th>\n",
       "      <th>SVM</th>\n",
       "      <th>DecisionTree</th>\n",
       "      <th>RandomForest</th>\n",
       "    </tr>\n",
       "  </thead>\n",
       "  <tbody>\n",
       "    <tr>\n",
       "      <td>TrainSet</td>\n",
       "      <td>0.785048</td>\n",
       "      <td>0.0</td>\n",
       "      <td>0.819905</td>\n",
       "      <td>0.0</td>\n",
       "    </tr>\n",
       "    <tr>\n",
       "      <td>TestSet</td>\n",
       "      <td>0.784111</td>\n",
       "      <td>0.0</td>\n",
       "      <td>0.822111</td>\n",
       "      <td>0.0</td>\n",
       "    </tr>\n",
       "  </tbody>\n",
       "</table>\n",
       "</div>"
      ],
      "text/plain": [
       "               KNN  SVM  DecisionTree  RandomForest\n",
       "TrainSet  0.785048  0.0      0.819905           0.0\n",
       "TestSet   0.784111  0.0      0.822111           0.0"
      ]
     },
     "execution_count": 184,
     "metadata": {},
     "output_type": "execute_result"
    }
   ],
   "source": [
    "models_tuned['KNN'] = [knn.score(X_train,y_train),knn.score(X_test,y_test)]\n",
    "models_tuned"
   ]
  },
  {
   "cell_type": "markdown",
   "metadata": {},
   "source": [
    "# SVM Tuning (with scaled features) "
   ]
  },
  {
   "cell_type": "code",
   "execution_count": 96,
   "metadata": {
    "scrolled": true
   },
   "outputs": [
    {
     "name": "stdout",
     "output_type": "stream",
     "text": [
      "Fitting 5 folds for each of 12 candidates, totalling 60 fits\n"
     ]
    },
    {
     "name": "stderr",
     "output_type": "stream",
     "text": [
      "[Parallel(n_jobs=-1)]: Using backend LokyBackend with 12 concurrent workers.\n",
      "[Parallel(n_jobs=-1)]: Done  26 tasks      | elapsed:  1.5min\n",
      "[Parallel(n_jobs=-1)]: Done  60 out of  60 | elapsed: 11.7min finished\n"
     ]
    },
    {
     "data": {
      "text/plain": [
       "GridSearchCV(cv=StratifiedKFold(n_splits=5, random_state=123, shuffle=False),\n",
       "             error_score='raise-deprecating',\n",
       "             estimator=Pipeline(memory=None,\n",
       "                                steps=[('PP',\n",
       "                                        StandardScaler(copy=True,\n",
       "                                                       with_mean=True,\n",
       "                                                       with_std=True)),\n",
       "                                       ('SVM',\n",
       "                                        SVC(C=1.0, cache_size=200,\n",
       "                                            class_weight=None, coef0=0.0,\n",
       "                                            decision_function_shape='ovr',\n",
       "                                            degree=3, gamma='auto_deprecated',\n",
       "                                            kernel='rbf', max_iter=-1,\n",
       "                                            probability=False, random_state=123,\n",
       "                                            shrinking=True, tol=0.001,\n",
       "                                            verbose=False))],\n",
       "                                verbose=False),\n",
       "             iid='warn', n_jobs=-1,\n",
       "             param_grid={'SVM__C': [0.001, 0.01, 0.1, 1, 10, 100],\n",
       "                         'SVM__kernel': ['rbf', 'poly']},\n",
       "             pre_dispatch='2*n_jobs', refit=True, return_train_score=False,\n",
       "             scoring='accuracy', verbose=1)"
      ]
     },
     "execution_count": 96,
     "metadata": {},
     "output_type": "execute_result"
    }
   ],
   "source": [
    "svm = GridSearchCV(Pipeline([('PP',StandardScaler()),('SVM',SVC( random_state = 123))])\n",
    "                   ,param_grid = {'SVM__kernel' : ['rbf','poly'], 'SVM__C':[0.001,0.01,0.1,1,10,100]}, cv= cv,refit = True, verbose = 1, scoring = 'accuracy', n_jobs =-1)\n",
    "svm.fit(X_train,y_train)"
   ]
  },
  {
   "cell_type": "code",
   "execution_count": 97,
   "metadata": {
    "scrolled": true
   },
   "outputs": [
    {
     "data": {
      "text/plain": [
       "{'mean_fit_time': array([ 23.05327654,  26.5466085 ,  27.01012964,  27.78280025,\n",
       "         29.00749645,  30.74989843,  34.35525341,  42.1259531 ,\n",
       "         47.43459935, 135.85114741, 127.45685711, 455.53963122]),\n",
       " 'std_fit_time': array([ 0.77921468,  1.07330949,  0.46598669,  0.62550385,  0.90867282,\n",
       "         0.88964776,  0.66637492,  3.25347426,  1.33785107,  8.79801559,\n",
       "         3.27137062, 46.13074798]),\n",
       " 'mean_score_time': array([2.61764035, 2.03741107, 2.69580145, 2.23029857, 2.43132944,\n",
       "        2.27861524, 2.56141396, 1.85679545, 2.31583381, 1.49263282,\n",
       "        1.93576474, 0.7180078 ]),\n",
       " 'std_score_time': array([0.11105309, 0.14193234, 0.29701036, 0.18976356, 0.41434002,\n",
       "        0.18169468, 0.09773987, 0.16081192, 0.24462745, 0.13751581,\n",
       "        0.2603471 , 0.12373143]),\n",
       " 'param_SVM__C': masked_array(data=[0.001, 0.001, 0.01, 0.01, 0.1, 0.1, 1, 1, 10, 10, 100,\n",
       "                    100],\n",
       "              mask=[False, False, False, False, False, False, False, False,\n",
       "                    False, False, False, False],\n",
       "        fill_value='?',\n",
       "             dtype=object),\n",
       " 'param_SVM__kernel': masked_array(data=['rbf', 'poly', 'rbf', 'poly', 'rbf', 'poly', 'rbf',\n",
       "                    'poly', 'rbf', 'poly', 'rbf', 'poly'],\n",
       "              mask=[False, False, False, False, False, False, False, False,\n",
       "                    False, False, False, False],\n",
       "        fill_value='?',\n",
       "             dtype=object),\n",
       " 'params': [{'SVM__C': 0.001, 'SVM__kernel': 'rbf'},\n",
       "  {'SVM__C': 0.001, 'SVM__kernel': 'poly'},\n",
       "  {'SVM__C': 0.01, 'SVM__kernel': 'rbf'},\n",
       "  {'SVM__C': 0.01, 'SVM__kernel': 'poly'},\n",
       "  {'SVM__C': 0.1, 'SVM__kernel': 'rbf'},\n",
       "  {'SVM__C': 0.1, 'SVM__kernel': 'poly'},\n",
       "  {'SVM__C': 1, 'SVM__kernel': 'rbf'},\n",
       "  {'SVM__C': 1, 'SVM__kernel': 'poly'},\n",
       "  {'SVM__C': 10, 'SVM__kernel': 'rbf'},\n",
       "  {'SVM__C': 10, 'SVM__kernel': 'poly'},\n",
       "  {'SVM__C': 100, 'SVM__kernel': 'rbf'},\n",
       "  {'SVM__C': 100, 'SVM__kernel': 'poly'}],\n",
       " 'split0_test_score': array([0.77671983, 0.77886218, 0.79243037, 0.78386099, 0.81004523,\n",
       "        0.79623899, 0.81361581, 0.79980957, 0.81147346, 0.8012378 ,\n",
       "        0.79695311, 0.79409664]),\n",
       " 'split1_test_score': array([0.77671983, 0.77814806, 0.7950488 , 0.78171864, 0.81194954,\n",
       "        0.79742918, 0.81528208, 0.80361819, 0.814806  , 0.81099738,\n",
       "        0.80076172, 0.80266603]),\n",
       " 'split2_test_score': array([0.77666667, 0.7797619 , 0.7952381 , 0.78571429, 0.81833333,\n",
       "        0.7952381 , 0.82333333, 0.80785714, 0.81928571, 0.81380952,\n",
       "        0.80809524, 0.80666667]),\n",
       " 'split3_test_score': array([0.77685163, 0.77756609, 0.79280781, 0.7854251 , 0.81305073,\n",
       "        0.7973327 , 0.8225768 , 0.81066921, 0.8221005 , 0.81162181,\n",
       "        0.80662062, 0.80471541]),\n",
       " 'split4_test_score': array([0.77685163, 0.77828054, 0.7913789 , 0.78328173, 0.8161467 ,\n",
       "        0.78661586, 0.81662301, 0.79899976, 0.81471779, 0.80495356,\n",
       "        0.79971422, 0.79685639]),\n",
       " 'mean_test_score': array([0.7767619 , 0.77852381, 0.79338095, 0.784     , 0.81390476,\n",
       "        0.79457143, 0.81828571, 0.80419048, 0.81647619, 0.80852381,\n",
       "        0.80242857, 0.801     ]),\n",
       " 'std_test_score': array([7.57757570e-05, 7.43612575e-04, 1.51465101e-03, 1.46356882e-03,\n",
       "        2.96950898e-03, 4.05692889e-03, 3.93671686e-03, 4.51375704e-03,\n",
       "        3.75322466e-03, 4.67966565e-03, 4.23823295e-03, 4.76490215e-03]),\n",
       " 'rank_test_score': array([12, 11,  9, 10,  3,  8,  1,  5,  2,  4,  6,  7])}"
      ]
     },
     "execution_count": 97,
     "metadata": {},
     "output_type": "execute_result"
    }
   ],
   "source": [
    "svm.cv_results_"
   ]
  },
  {
   "cell_type": "code",
   "execution_count": 98,
   "metadata": {},
   "outputs": [
    {
     "data": {
      "text/plain": [
       "(0.8182857142857143, {'SVM__C': 1, 'SVM__kernel': 'rbf'})"
      ]
     },
     "execution_count": 98,
     "metadata": {},
     "output_type": "execute_result"
    }
   ],
   "source": [
    "svm.best_score_, svm.best_params_"
   ]
  },
  {
   "cell_type": "code",
   "execution_count": 99,
   "metadata": {},
   "outputs": [],
   "source": [
    "svm = Pipeline([('PP',StandardScaler()),('SVM',SVC( random_state = 123, C = 1, kernel = 'rbf'))])"
   ]
  },
  {
   "cell_type": "code",
   "execution_count": 100,
   "metadata": {},
   "outputs": [
    {
     "name": "stdout",
     "output_type": "stream",
     "text": [
      "0.8248571428571428\n",
      "0.82\n"
     ]
    }
   ],
   "source": [
    "svm.fit(X_train,y_train)\n",
    "print(svm.score(X_train,y_train))\n",
    "print(svm.score(X_test,y_test))"
   ]
  },
  {
   "cell_type": "code",
   "execution_count": 101,
   "metadata": {},
   "outputs": [
    {
     "data": {
      "text/html": [
       "<div>\n",
       "<style scoped>\n",
       "    .dataframe tbody tr th:only-of-type {\n",
       "        vertical-align: middle;\n",
       "    }\n",
       "\n",
       "    .dataframe tbody tr th {\n",
       "        vertical-align: top;\n",
       "    }\n",
       "\n",
       "    .dataframe thead th {\n",
       "        text-align: right;\n",
       "    }\n",
       "</style>\n",
       "<table border=\"1\" class=\"dataframe\">\n",
       "  <thead>\n",
       "    <tr style=\"text-align: right;\">\n",
       "      <th></th>\n",
       "      <th>KNN</th>\n",
       "      <th>SVM</th>\n",
       "      <th>DecisionTree</th>\n",
       "      <th>RandomForest</th>\n",
       "    </tr>\n",
       "  </thead>\n",
       "  <tbody>\n",
       "    <tr>\n",
       "      <td>TrainSet</td>\n",
       "      <td>0.785048</td>\n",
       "      <td>0.824857</td>\n",
       "      <td>0.821238</td>\n",
       "      <td>0.0</td>\n",
       "    </tr>\n",
       "    <tr>\n",
       "      <td>TestSet</td>\n",
       "      <td>0.784111</td>\n",
       "      <td>0.820000</td>\n",
       "      <td>0.817667</td>\n",
       "      <td>0.0</td>\n",
       "    </tr>\n",
       "  </tbody>\n",
       "</table>\n",
       "</div>"
      ],
      "text/plain": [
       "               KNN       SVM  DecisionTree  RandomForest\n",
       "TrainSet  0.785048  0.824857      0.821238           0.0\n",
       "TestSet   0.784111  0.820000      0.817667           0.0"
      ]
     },
     "execution_count": 101,
     "metadata": {},
     "output_type": "execute_result"
    }
   ],
   "source": [
    "models_tuned['SVM'] = [svm.score(X_train,y_train),svm.score(X_test,y_test)]\n",
    "models_tuned"
   ]
  },
  {
   "cell_type": "markdown",
   "metadata": {},
   "source": [
    "# Random Forest tuning + RFE"
   ]
  },
  {
   "cell_type": "code",
   "execution_count": 12,
   "metadata": {
    "scrolled": true
   },
   "outputs": [
    {
     "name": "stdout",
     "output_type": "stream",
     "text": [
      "Optimal number of features : 21\n"
     ]
    }
   ],
   "source": [
    "from sklearn.feature_selection import RFECV\n",
    "from sklearn.ensemble import GradientBoostingClassifier\n",
    "rf = RandomForestClassifier(n_estimators = 100,random_state = 123)\n",
    "rfe = RFECV(estimator=rf,cv=cv, scoring = 'accuracy', step=1,verbose = 0, n_jobs = -1)\n",
    "rfe.fit(X_train, y_train)\n",
    "\n",
    "print(\"Optimal number of features : %d\" % rfe.n_features_)"
   ]
  },
  {
   "cell_type": "code",
   "execution_count": 20,
   "metadata": {},
   "outputs": [
    {
     "data": {
      "text/plain": [
       "Index(['LIMIT_BAL', 'EDUCATION', 'AGE', 'PAY_0', 'PAY_2', 'PAY_3', 'PAY_4',\n",
       "       'PAY_5', 'PAY_6', 'BILL_AMT1', 'BILL_AMT2', 'BILL_AMT3', 'BILL_AMT4',\n",
       "       'BILL_AMT5', 'BILL_AMT6', 'PAY_AMT1', 'PAY_AMT2', 'PAY_AMT3',\n",
       "       'PAY_AMT4', 'PAY_AMT5', 'PAY_AMT6'],\n",
       "      dtype='object')"
      ]
     },
     "execution_count": 20,
     "metadata": {},
     "output_type": "execute_result"
    }
   ],
   "source": [
    "X_train.columns[rfe.support_]"
   ]
  },
  {
   "cell_type": "code",
   "execution_count": 21,
   "metadata": {},
   "outputs": [
    {
     "data": {
      "image/png": "[encoded data removed]",
      "text/plain": [
       "<Figure size 432x288 with 1 Axes>"
      ]
     },
     "metadata": {
      "needs_background": "light"
     },
     "output_type": "display_data"
    }
   ],
   "source": [
    "# Plot number of features VS. cross-validation scores\n",
    "plt.figure()\n",
    "plt.xlabel(\"Number of features selected\")\n",
    "plt.ylabel(\"Cross validation score (nb of correct classifications)\")\n",
    "plt.plot(range(1, len(rfe.grid_scores_) + 1), rfe.grid_scores_)\n",
    "plt.show()"
   ]
  },
  {
   "cell_type": "code",
   "execution_count": 23,
   "metadata": {},
   "outputs": [
    {
     "data": {
      "text/plain": [
       "0.8153814768302856"
      ]
     },
     "execution_count": 23,
     "metadata": {},
     "output_type": "execute_result"
    }
   ],
   "source": [
    "rfe.grid_scores_[20]"
   ]
  },
  {
   "cell_type": "code",
   "execution_count": 24,
   "metadata": {},
   "outputs": [
    {
     "data": {
      "text/plain": [
       "(21000, 21)"
      ]
     },
     "execution_count": 24,
     "metadata": {},
     "output_type": "execute_result"
    }
   ],
   "source": [
    "X_train_rf = X_train[X_train.columns[rfe.support_]]\n",
    "X_test_rf = X_test[X_train.columns[rfe.support_]]\n",
    "X_train_rf.shape"
   ]
  },
  {
   "cell_type": "code",
   "execution_count": 25,
   "metadata": {},
   "outputs": [
    {
     "name": "stdout",
     "output_type": "stream",
     "text": [
      "Fitting 5 folds for each of 9 candidates, totalling 45 fits\n"
     ]
    },
    {
     "name": "stderr",
     "output_type": "stream",
     "text": [
      "[Parallel(n_jobs=-1)]: Using backend LokyBackend with 12 concurrent workers.\n",
      "[Parallel(n_jobs=-1)]: Done  45 out of  45 | elapsed:   35.0s finished\n"
     ]
    },
    {
     "data": {
      "text/plain": [
       "GridSearchCV(cv=StratifiedKFold(n_splits=5, random_state=123, shuffle=False),\n",
       "             error_score='raise-deprecating',\n",
       "             estimator=RandomForestClassifier(bootstrap=True, class_weight=None,\n",
       "                                              criterion='gini', max_depth=None,\n",
       "                                              max_features='auto',\n",
       "                                              max_leaf_nodes=None,\n",
       "                                              min_impurity_decrease=0.0,\n",
       "                                              min_impurity_split=None,\n",
       "                                              min_samples_leaf=1,\n",
       "                                              min_samples_split=2,\n",
       "                                              min_weight_fraction_leaf=0.0,\n",
       "                                              n_estimators='warn', n_jobs=None,\n",
       "                                              oob_score=False, random_state=123,\n",
       "                                              verbose=0, warm_start=False),\n",
       "             iid='warn', n_jobs=-1,\n",
       "             param_grid={'max_depth': [5, 10, 25],\n",
       "                         'n_estimators': [100, 200, 300]},\n",
       "             pre_dispatch='2*n_jobs', refit=True, return_train_score=False,\n",
       "             scoring='accuracy', verbose=1)"
      ]
     },
     "execution_count": 25,
     "metadata": {},
     "output_type": "execute_result"
    }
   ],
   "source": [
    "rfmodel = GridSearchCV(RandomForestClassifier(random_state = 123),\n",
    "                   param_grid = {'n_estimators' : [100,200,300], 'max_depth':[5,10,25]}, cv= cv,refit = True, verbose = 1, scoring = 'accuracy', n_jobs =-1)\n",
    "rfmodel.fit(X_train_rf,y_train)"
   ]
  },
  {
   "cell_type": "code",
   "execution_count": 26,
   "metadata": {},
   "outputs": [
    {
     "data": {
      "text/plain": [
       "(0.8192380952380952, {'max_depth': 10, 'n_estimators': 100})"
      ]
     },
     "execution_count": 26,
     "metadata": {},
     "output_type": "execute_result"
    }
   ],
   "source": [
    "rfmodel.best_score_, rfmodel.best_params_"
   ]
  },
  {
   "cell_type": "code",
   "execution_count": 27,
   "metadata": {
    "scrolled": true
   },
   "outputs": [
    {
     "data": {
      "text/plain": [
       "{'mean_fit_time': array([ 1.82594872,  3.68646674,  5.56727552,  3.4066329 ,  6.95741463,\n",
       "        10.78528972,  6.21726637, 11.480023  , 14.19254122]),\n",
       " 'std_fit_time': array([0.01593115, 0.02687601, 0.05709816, 0.0641282 , 0.01159874,\n",
       "        0.14206074, 0.23159292, 0.56569247, 0.19082057]),\n",
       " 'mean_score_time': array([0.05623469, 0.10309892, 0.14371586, 0.06873446, 0.14352183,\n",
       "        0.21213555, 0.11908131, 0.19691548, 0.22585921]),\n",
       " 'std_score_time': array([0.0076515 , 0.00765224, 0.01821695, 0.00765216, 0.00635281,\n",
       "        0.00572383, 0.00149225, 0.02329028, 0.0088916 ]),\n",
       " 'param_max_depth': masked_array(data=[5, 5, 5, 10, 10, 10, 25, 25, 25],\n",
       "              mask=[False, False, False, False, False, False, False, False,\n",
       "                    False],\n",
       "        fill_value='?',\n",
       "             dtype=object),\n",
       " 'param_n_estimators': masked_array(data=[100, 200, 300, 100, 200, 300, 100, 200, 300],\n",
       "              mask=[False, False, False, False, False, False, False, False,\n",
       "                    False],\n",
       "        fill_value='?',\n",
       "             dtype=object),\n",
       " 'params': [{'max_depth': 5, 'n_estimators': 100},\n",
       "  {'max_depth': 5, 'n_estimators': 200},\n",
       "  {'max_depth': 5, 'n_estimators': 300},\n",
       "  {'max_depth': 10, 'n_estimators': 100},\n",
       "  {'max_depth': 10, 'n_estimators': 200},\n",
       "  {'max_depth': 10, 'n_estimators': 300},\n",
       "  {'max_depth': 25, 'n_estimators': 100},\n",
       "  {'max_depth': 25, 'n_estimators': 200},\n",
       "  {'max_depth': 25, 'n_estimators': 300}],\n",
       " 'split0_test_score': array([0.81623423, 0.81456796, 0.81504404, 0.81599619, 0.814806  ,\n",
       "        0.81361581, 0.80552249, 0.80718876, 0.80837896]),\n",
       " 'split1_test_score': array([0.81623423, 0.81623423, 0.81623423, 0.8179005 , 0.81599619,\n",
       "        0.814806  , 0.81361581, 0.81290169, 0.81528208]),\n",
       " 'split2_test_score': array([0.82142857, 0.8202381 , 0.82      , 0.82047619, 0.82      ,\n",
       "        0.82      , 0.81904762, 0.81595238, 0.81714286]),\n",
       " 'split3_test_score': array([0.82114789, 0.81900452, 0.82019528, 0.82495832, 0.82472017,\n",
       "        0.82567278, 0.8216242 , 0.82043344, 0.82138604]),\n",
       " 'split4_test_score': array([0.81709931, 0.81471779, 0.81376518, 0.81686116, 0.81686116,\n",
       "        0.81757561, 0.81590855, 0.81328888, 0.81447964]),\n",
       " 'mean_test_score': array([0.81842857, 0.81695238, 0.81704762, 0.8192381 , 0.81847619,\n",
       "        0.81833333, 0.81514286, 0.81395238, 0.81533333]),\n",
       " 'std_test_score': array([0.00235763, 0.00228915, 0.0026104 , 0.00323099, 0.00356463,\n",
       "        0.00428747, 0.00552697, 0.00431963, 0.00421917]),\n",
       " 'rank_test_score': array([3, 6, 5, 1, 2, 4, 8, 9, 7])}"
      ]
     },
     "execution_count": 27,
     "metadata": {},
     "output_type": "execute_result"
    }
   ],
   "source": [
    "rfmodel.cv_results_"
   ]
  },
  {
   "cell_type": "code",
   "execution_count": 28,
   "metadata": {},
   "outputs": [],
   "source": [
    "rfmodel = RandomForestClassifier(max_depth = 10, n_estimators = 100, random_state = 123)"
   ]
  },
  {
   "cell_type": "code",
   "execution_count": 29,
   "metadata": {},
   "outputs": [
    {
     "data": {
      "text/plain": [
       "RandomForestClassifier(bootstrap=True, class_weight=None, criterion='gini',\n",
       "                       max_depth=10, max_features='auto', max_leaf_nodes=None,\n",
       "                       min_impurity_decrease=0.0, min_impurity_split=None,\n",
       "                       min_samples_leaf=1, min_samples_split=2,\n",
       "                       min_weight_fraction_leaf=0.0, n_estimators=100,\n",
       "                       n_jobs=None, oob_score=False, random_state=123,\n",
       "                       verbose=0, warm_start=False)"
      ]
     },
     "execution_count": 29,
     "metadata": {},
     "output_type": "execute_result"
    }
   ],
   "source": [
    "rfmodel.fit(X_train_rf, y_train)"
   ]
  },
  {
   "cell_type": "code",
   "execution_count": 30,
   "metadata": {},
   "outputs": [
    {
     "data": {
      "text/plain": [
       "0.8207777777777778"
      ]
     },
     "execution_count": 30,
     "metadata": {},
     "output_type": "execute_result"
    }
   ],
   "source": [
    "rfmodel.score(X_test_rf,y_test)"
   ]
  },
  {
   "cell_type": "code",
   "execution_count": 116,
   "metadata": {},
   "outputs": [],
   "source": [
    "models_tuned['RandomForest'] = [rfmodel.score(X_train_rf,y_train),rfmodel.score(X_test_rf,y_test)]\n"
   ]
  },
  {
   "cell_type": "markdown",
   "metadata": {},
   "source": [
    "# Tuned Models results"
   ]
  },
  {
   "cell_type": "code",
   "execution_count": 117,
   "metadata": {},
   "outputs": [
    {
     "data": {
      "text/html": [
       "<div>\n",
       "<style scoped>\n",
       "    .dataframe tbody tr th:only-of-type {\n",
       "        vertical-align: middle;\n",
       "    }\n",
       "\n",
       "    .dataframe tbody tr th {\n",
       "        vertical-align: top;\n",
       "    }\n",
       "\n",
       "    .dataframe thead th {\n",
       "        text-align: right;\n",
       "    }\n",
       "</style>\n",
       "<table border=\"1\" class=\"dataframe\">\n",
       "  <thead>\n",
       "    <tr style=\"text-align: right;\">\n",
       "      <th></th>\n",
       "      <th>KNN</th>\n",
       "      <th>SVM</th>\n",
       "      <th>DecisionTree</th>\n",
       "      <th>RandomForest</th>\n",
       "    </tr>\n",
       "  </thead>\n",
       "  <tbody>\n",
       "    <tr>\n",
       "      <td>TrainSet</td>\n",
       "      <td>0.785048</td>\n",
       "      <td>0.824857</td>\n",
       "      <td>0.821238</td>\n",
       "      <td>0.859667</td>\n",
       "    </tr>\n",
       "    <tr>\n",
       "      <td>TestSet</td>\n",
       "      <td>0.784111</td>\n",
       "      <td>0.820000</td>\n",
       "      <td>0.817667</td>\n",
       "      <td>0.820778</td>\n",
       "    </tr>\n",
       "  </tbody>\n",
       "</table>\n",
       "</div>"
      ],
      "text/plain": [
       "               KNN       SVM  DecisionTree  RandomForest\n",
       "TrainSet  0.785048  0.824857      0.821238      0.859667\n",
       "TestSet   0.784111  0.820000      0.817667      0.820778"
      ]
     },
     "execution_count": 117,
     "metadata": {},
     "output_type": "execute_result"
    }
   ],
   "source": [
    "models_tuned"
   ]
  },
  {
   "cell_type": "markdown",
   "metadata": {},
   "source": [
    "- Best model is Random Forest"
   ]
  },
  {
   "cell_type": "code",
   "execution_count": 31,
   "metadata": {},
   "outputs": [],
   "source": [
    "predictions = rfmodel.predict(X_test_rf)"
   ]
  },
  {
   "cell_type": "code",
   "execution_count": 53,
   "metadata": {},
   "outputs": [
    {
     "data": {
      "text/plain": [
       "array([[6670,  382],\n",
       "       [1231,  717]], dtype=int64)"
      ]
     },
     "execution_count": 53,
     "metadata": {},
     "output_type": "execute_result"
    }
   ],
   "source": [
    "from sklearn.metrics import confusion_matrix\n",
    "confusion_matrix(y_test, predictions)"
   ]
  },
  {
   "cell_type": "code",
   "execution_count": 43,
   "metadata": {},
   "outputs": [],
   "source": [
    "mu, sigma = 0, 0.1 # mean and standard deviation\n",
    "s1 = np.random.normal(mu, sigma, len(y_test))\n",
    "s2 = np.random.normal(mu, sigma, len(y_test))"
   ]
  },
  {
   "cell_type": "code",
   "execution_count": 45,
   "metadata": {},
   "outputs": [
    {
     "data": {
      "image/png": "[encoded data removed]",
      "text/plain": [
       "<Figure size 432x288 with 1 Axes>"
      ]
     },
     "metadata": {
      "needs_background": "light"
     },
     "output_type": "display_data"
    }
   ],
   "source": [
    "plt.scatter(y_test+s1, predictions+s2)\n",
    "plt.xlabel('Ground Truth')\n",
    "plt.ylabel('Predictions')\n",
    "plt.show();"
   ]
  },
  {
   "cell_type": "markdown",
   "metadata": {},
   "source": [
    "## Binning attributes - Age, Limit_balance"
   ]
  },
  {
   "cell_type": "code",
   "execution_count": 118,
   "metadata": {},
   "outputs": [],
   "source": [
    "rawData['Binned_Age'] = pd.cut(rawData.AGE, bins =[20,25,30,35,40,50,60,80], \n",
    "                              labels = ['20-24','25-29','30-34','35-39','40-49','50-59','60-79'], include_lowest = True)\n",
    "rawData['Binned_Limit_Bal'] = pd.cut(rawData.LIMIT_BAL, bins = [10000,100000,200000,300000,500000,1000000],\n",
    "                                    labels = ['<100k','100k-200k','200k-300k','300k-500k','>500k'],include_lowest = True)\n"
   ]
  },
  {
   "cell_type": "code",
   "execution_count": 335,
   "metadata": {},
   "outputs": [
    {
     "data": {
      "text/html": [
       "<div>\n",
       "<style scoped>\n",
       "    .dataframe tbody tr th:only-of-type {\n",
       "        vertical-align: middle;\n",
       "    }\n",
       "\n",
       "    .dataframe tbody tr th {\n",
       "        vertical-align: top;\n",
       "    }\n",
       "\n",
       "    .dataframe thead th {\n",
       "        text-align: right;\n",
       "    }\n",
       "</style>\n",
       "<table border=\"1\" class=\"dataframe\">\n",
       "  <thead>\n",
       "    <tr style=\"text-align: right;\">\n",
       "      <th></th>\n",
       "      <th>Binned_Age</th>\n",
       "      <th>Binned_Limit_Bal</th>\n",
       "    </tr>\n",
       "  </thead>\n",
       "  <tbody>\n",
       "    <tr>\n",
       "      <td>0</td>\n",
       "      <td>20-24</td>\n",
       "      <td>&lt;100k</td>\n",
       "    </tr>\n",
       "    <tr>\n",
       "      <td>1</td>\n",
       "      <td>25-29</td>\n",
       "      <td>100k-200k</td>\n",
       "    </tr>\n",
       "    <tr>\n",
       "      <td>2</td>\n",
       "      <td>30-34</td>\n",
       "      <td>&lt;100k</td>\n",
       "    </tr>\n",
       "    <tr>\n",
       "      <td>3</td>\n",
       "      <td>35-39</td>\n",
       "      <td>&lt;100k</td>\n",
       "    </tr>\n",
       "    <tr>\n",
       "      <td>4</td>\n",
       "      <td>50-59</td>\n",
       "      <td>&lt;100k</td>\n",
       "    </tr>\n",
       "    <tr>\n",
       "      <td>...</td>\n",
       "      <td>...</td>\n",
       "      <td>...</td>\n",
       "    </tr>\n",
       "    <tr>\n",
       "      <td>29995</td>\n",
       "      <td>35-39</td>\n",
       "      <td>200k-300k</td>\n",
       "    </tr>\n",
       "    <tr>\n",
       "      <td>29996</td>\n",
       "      <td>40-49</td>\n",
       "      <td>100k-200k</td>\n",
       "    </tr>\n",
       "    <tr>\n",
       "      <td>29997</td>\n",
       "      <td>35-39</td>\n",
       "      <td>&lt;100k</td>\n",
       "    </tr>\n",
       "    <tr>\n",
       "      <td>29998</td>\n",
       "      <td>40-49</td>\n",
       "      <td>&lt;100k</td>\n",
       "    </tr>\n",
       "    <tr>\n",
       "      <td>29999</td>\n",
       "      <td>40-49</td>\n",
       "      <td>&lt;100k</td>\n",
       "    </tr>\n",
       "  </tbody>\n",
       "</table>\n",
       "<p>30000 rows × 2 columns</p>\n",
       "</div>"
      ],
      "text/plain": [
       "      Binned_Age Binned_Limit_Bal\n",
       "0          20-24            <100k\n",
       "1          25-29        100k-200k\n",
       "2          30-34            <100k\n",
       "3          35-39            <100k\n",
       "4          50-59            <100k\n",
       "...          ...              ...\n",
       "29995      35-39        200k-300k\n",
       "29996      40-49        100k-200k\n",
       "29997      35-39            <100k\n",
       "29998      40-49            <100k\n",
       "29999      40-49            <100k\n",
       "\n",
       "[30000 rows x 2 columns]"
      ]
     },
     "execution_count": 335,
     "metadata": {},
     "output_type": "execute_result"
    }
   ],
   "source": [
    "rawData[['Binned_Age','Binned_Limit_Bal']]"
   ]
  },
  {
   "cell_type": "code",
   "execution_count": 34,
   "metadata": {},
   "outputs": [
    {
     "data": {
      "text/html": [
       "<div>\n",
       "<style scoped>\n",
       "    .dataframe tbody tr th:only-of-type {\n",
       "        vertical-align: middle;\n",
       "    }\n",
       "\n",
       "    .dataframe tbody tr th {\n",
       "        vertical-align: top;\n",
       "    }\n",
       "\n",
       "    .dataframe thead th {\n",
       "        text-align: right;\n",
       "    }\n",
       "</style>\n",
       "<table border=\"1\" class=\"dataframe\">\n",
       "  <thead>\n",
       "    <tr style=\"text-align: right;\">\n",
       "      <th></th>\n",
       "      <th>Binned_Age_20-24</th>\n",
       "      <th>Binned_Age_25-29</th>\n",
       "      <th>Binned_Age_30-34</th>\n",
       "      <th>Binned_Age_35-39</th>\n",
       "      <th>Binned_Age_40-49</th>\n",
       "      <th>Binned_Age_50-59</th>\n",
       "      <th>Binned_Age_60-79</th>\n",
       "      <th>Binned_Limit_Bal_&lt;100k</th>\n",
       "      <th>Binned_Limit_Bal_100k-200k</th>\n",
       "      <th>Binned_Limit_Bal_200k-300k</th>\n",
       "      <th>Binned_Limit_Bal_300k-500k</th>\n",
       "      <th>Binned_Limit_Bal_&gt;500k</th>\n",
       "    </tr>\n",
       "  </thead>\n",
       "  <tbody>\n",
       "    <tr>\n",
       "      <td>0</td>\n",
       "      <td>1</td>\n",
       "      <td>0</td>\n",
       "      <td>0</td>\n",
       "      <td>0</td>\n",
       "      <td>0</td>\n",
       "      <td>0</td>\n",
       "      <td>0</td>\n",
       "      <td>1</td>\n",
       "      <td>0</td>\n",
       "      <td>0</td>\n",
       "      <td>0</td>\n",
       "      <td>0</td>\n",
       "    </tr>\n",
       "    <tr>\n",
       "      <td>1</td>\n",
       "      <td>0</td>\n",
       "      <td>1</td>\n",
       "      <td>0</td>\n",
       "      <td>0</td>\n",
       "      <td>0</td>\n",
       "      <td>0</td>\n",
       "      <td>0</td>\n",
       "      <td>0</td>\n",
       "      <td>1</td>\n",
       "      <td>0</td>\n",
       "      <td>0</td>\n",
       "      <td>0</td>\n",
       "    </tr>\n",
       "    <tr>\n",
       "      <td>2</td>\n",
       "      <td>0</td>\n",
       "      <td>0</td>\n",
       "      <td>1</td>\n",
       "      <td>0</td>\n",
       "      <td>0</td>\n",
       "      <td>0</td>\n",
       "      <td>0</td>\n",
       "      <td>1</td>\n",
       "      <td>0</td>\n",
       "      <td>0</td>\n",
       "      <td>0</td>\n",
       "      <td>0</td>\n",
       "    </tr>\n",
       "    <tr>\n",
       "      <td>3</td>\n",
       "      <td>0</td>\n",
       "      <td>0</td>\n",
       "      <td>0</td>\n",
       "      <td>1</td>\n",
       "      <td>0</td>\n",
       "      <td>0</td>\n",
       "      <td>0</td>\n",
       "      <td>1</td>\n",
       "      <td>0</td>\n",
       "      <td>0</td>\n",
       "      <td>0</td>\n",
       "      <td>0</td>\n",
       "    </tr>\n",
       "    <tr>\n",
       "      <td>4</td>\n",
       "      <td>0</td>\n",
       "      <td>0</td>\n",
       "      <td>0</td>\n",
       "      <td>0</td>\n",
       "      <td>0</td>\n",
       "      <td>1</td>\n",
       "      <td>0</td>\n",
       "      <td>1</td>\n",
       "      <td>0</td>\n",
       "      <td>0</td>\n",
       "      <td>0</td>\n",
       "      <td>0</td>\n",
       "    </tr>\n",
       "  </tbody>\n",
       "</table>\n",
       "</div>"
      ],
      "text/plain": [
       "   Binned_Age_20-24  Binned_Age_25-29  Binned_Age_30-34  Binned_Age_35-39  \\\n",
       "0                 1                 0                 0                 0   \n",
       "1                 0                 1                 0                 0   \n",
       "2                 0                 0                 1                 0   \n",
       "3                 0                 0                 0                 1   \n",
       "4                 0                 0                 0                 0   \n",
       "\n",
       "   Binned_Age_40-49  Binned_Age_50-59  Binned_Age_60-79  \\\n",
       "0                 0                 0                 0   \n",
       "1                 0                 0                 0   \n",
       "2                 0                 0                 0   \n",
       "3                 0                 0                 0   \n",
       "4                 0                 1                 0   \n",
       "\n",
       "   Binned_Limit_Bal_<100k  Binned_Limit_Bal_100k-200k  \\\n",
       "0                       1                           0   \n",
       "1                       0                           1   \n",
       "2                       1                           0   \n",
       "3                       1                           0   \n",
       "4                       1                           0   \n",
       "\n",
       "   Binned_Limit_Bal_200k-300k  Binned_Limit_Bal_300k-500k  \\\n",
       "0                           0                           0   \n",
       "1                           0                           0   \n",
       "2                           0                           0   \n",
       "3                           0                           0   \n",
       "4                           0                           0   \n",
       "\n",
       "   Binned_Limit_Bal_>500k  \n",
       "0                       0  \n",
       "1                       0  \n",
       "2                       0  \n",
       "3                       0  \n",
       "4                       0  "
      ]
     },
     "execution_count": 34,
     "metadata": {},
     "output_type": "execute_result"
    }
   ],
   "source": [
    "CatDummies = pd.get_dummies(rawData[['Binned_Age','Binned_Limit_Bal']])\n",
    "CatDummies.head()"
   ]
  },
  {
   "cell_type": "code",
   "execution_count": 50,
   "metadata": {},
   "outputs": [
    {
     "data": {
      "text/plain": [
       "Index(['LIMIT_BAL', 'SEX', 'EDUCATION', 'MARRIAGE', 'AGE', 'PAY_0', 'PAY_2',\n",
       "       'PAY_3', 'PAY_4', 'PAY_5', 'PAY_6', 'BILL_AMT1', 'BILL_AMT2',\n",
       "       'BILL_AMT3', 'BILL_AMT4', 'BILL_AMT5', 'BILL_AMT6', 'PAY_AMT1',\n",
       "       'PAY_AMT2', 'PAY_AMT3', 'PAY_AMT4', 'PAY_AMT5', 'PAY_AMT6',\n",
       "       'Binned_Age_20-24', 'Binned_Age_25-29', 'Binned_Age_30-34',\n",
       "       'Binned_Age_35-39', 'Binned_Age_40-49', 'Binned_Age_50-59',\n",
       "       'Binned_Age_60-79', 'Binned_Limit_Bal_<100k',\n",
       "       'Binned_Limit_Bal_100k-200k', 'Binned_Limit_Bal_200k-300k',\n",
       "       'Binned_Limit_Bal_300k-500k', 'Binned_Limit_Bal_>500k'],\n",
       "      dtype='object')"
      ]
     },
     "execution_count": 50,
     "metadata": {},
     "output_type": "execute_result"
    }
   ],
   "source": [
    "features_dummied = pd.concat([features,CatDummies], axis = 1)\n",
    "features_dummied.columns"
   ]
  },
  {
   "cell_type": "code",
   "execution_count": 51,
   "metadata": {},
   "outputs": [],
   "source": [
    "features_dummied.drop(['LIMIT_BAL','AGE'], axis = 1, inplace = True)\n"
   ]
  },
  {
   "cell_type": "code",
   "execution_count": 53,
   "metadata": {
    "scrolled": true
   },
   "outputs": [
    {
     "name": "stdout",
     "output_type": "stream",
     "text": [
      "   SEX  EDUCATION  MARRIAGE  PAY_0  PAY_2  PAY_3  PAY_4  PAY_5  PAY_6  \\\n",
      "0    2          2         1      2      2     -1     -1     -2     -2   \n",
      "1    2          2         2     -1      2      0      0      0      2   \n",
      "2    2          2         2      0      0      0      0      0      0   \n",
      "3    2          2         1      0      0      0      0      0      0   \n",
      "4    1          2         1     -1      0     -1      0      0      0   \n",
      "\n",
      "   BILL_AMT1  ...  Binned_Age_30-34  Binned_Age_35-39  Binned_Age_40-49  \\\n",
      "0       3913  ...                 0                 0                 0   \n",
      "1       2682  ...                 0                 0                 0   \n",
      "2      29239  ...                 1                 0                 0   \n",
      "3      46990  ...                 0                 1                 0   \n",
      "4       8617  ...                 0                 0                 0   \n",
      "\n",
      "   Binned_Age_50-59  Binned_Age_60-79  Binned_Limit_Bal_<100k  \\\n",
      "0                 0                 0                       1   \n",
      "1                 0                 0                       0   \n",
      "2                 0                 0                       1   \n",
      "3                 0                 0                       1   \n",
      "4                 1                 0                       1   \n",
      "\n",
      "   Binned_Limit_Bal_100k-200k  Binned_Limit_Bal_200k-300k  \\\n",
      "0                           0                           0   \n",
      "1                           1                           0   \n",
      "2                           0                           0   \n",
      "3                           0                           0   \n",
      "4                           0                           0   \n",
      "\n",
      "   Binned_Limit_Bal_300k-500k  Binned_Limit_Bal_>500k  \n",
      "0                           0                       0  \n",
      "1                           0                       0  \n",
      "2                           0                       0  \n",
      "3                           0                       0  \n",
      "4                           0                       0  \n",
      "\n",
      "[5 rows x 33 columns]\n"
     ]
    }
   ],
   "source": [
    "print(features_dummied.head())"
   ]
  },
  {
   "cell_type": "code",
   "execution_count": 119,
   "metadata": {},
   "outputs": [],
   "source": [
    "X_train_d, X_test_d, y_train_d, y_test_d = train_test_split(\n",
    "    features_dummied, depVar, test_size = 0.3, random_state=123)"
   ]
  },
  {
   "cell_type": "markdown",
   "metadata": {},
   "source": [
    "rf_d = Pipeline([('clf',RandomForestClassifier(max_depth = 10, n_estimators = 100,random_state=123))])\n",
    "\n",
    "rf_d.fit(X_train_d, y_train_d)\n",
    "print(\"RF train accuracy: %0.3f\" % rf_d.score(X_train_d, y_train_d))\n",
    "print(\"RF test accuracy: %0.3f\" % rf_d.score(X_test_d, y_test_d))"
   ]
  },
  {
   "cell_type": "code",
   "execution_count": 122,
   "metadata": {},
   "outputs": [
    {
     "name": "stdout",
     "output_type": "stream",
     "text": [
      "SVM train accuracy: 0.825\n",
      "SVM test accuracy: 0.820\n"
     ]
    }
   ],
   "source": [
    "svm_d = Pipeline([('PP',StandardScaler()),('SVM',SVC( random_state = 123, C = 1, kernel = 'rbf'))])\n",
    "\n",
    "svm_d.fit(X_train_d, y_train_d)\n",
    "print(\"SVM train accuracy: %0.3f\" % svm_d.score(X_train_d, y_train_d))\n",
    "print(\"SVM test accuracy: %0.3f\" % svm_d.score(X_test_d, y_test_d))"
   ]
  },
  {
   "cell_type": "markdown",
   "metadata": {},
   "source": [
    "- Not a significant change from previous results"
   ]
  },
  {
   "cell_type": "code",
   "execution_count": null,
   "metadata": {},
   "outputs": [],
   "source": []
  }
 ],
 "metadata": {
  "kernelspec": {
   "display_name": "Python 3",
   "language": "python",
   "name": "python3"
  },
  "language_info": {
   "codemirror_mode": {
    "name": "ipython",
    "version": 3
   },
   "file_extension": ".py",
   "mimetype": "text/x-python",
   "name": "python",
   "nbconvert_exporter": "python",
   "pygments_lexer": "ipython3",
   "version": "3.7.4"
  }
 },
 "nbformat": 4,
 "nbformat_minor": 2
}
